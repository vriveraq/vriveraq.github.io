{
 "cells": [
  {
   "cell_type": "markdown",
   "metadata": {
    "dc": {
     "key": "3"
    },
    "deletable": false,
    "run_control": {
     "frozen": true
    },
    "tags": [
     "context"
    ]
   },
   "source": [
    "## 1. Darwin's bibliography\n",
    "\n",
    "<table><tr><td><img src=\"https://cdn.waterstones.com/bookjackets/large/9781/4088/9781408831014.jpg\" alt=\"Darwin's Ghost by Rebecca Scott\" width=\"150px\"></td><td><img src = \"https://i.pinimg.com/originals/d5/1d/a7/d51da7c616bc1fd0c624230dc99a2cbf.jpg\" alt=\"Charles Darwin\" width=\"300px\"></td></tr></table>\n",
    "\n",
    "\n",
    "<p>Charles Darwin is one of the few universal figures of science. His most renowned work is without a doubt his \"<em>On the Origin of Species</em>\" published in 1859 which introduced the concept of natural selection. But Darwin wrote many other books on a wide range of topics, including geology, plants or his personal life. In this notebook, we will automatically detect how closely related his books are to each other.</p>\n",
    "<p>To this purpose, we will develop the bases of <strong>a content-based book recommendation system</strong>, which will determine which books are close to each other based on how similar the discussed topics are. The methods we will use are commonly used in text- or documents-heavy industries such as legal, tech or customer support to perform some common task such as text classification or handling search engine queries.</p>\n",
    "<p>Let's take a look at the books we'll use in our recommendation system.</p>"
   ]
  },
  {
   "cell_type": "code",
   "execution_count": 1,
   "metadata": {
    "dc": {
     "key": "3"
    },
    "tags": [
     "sample_code"
    ]
   },
   "outputs": [
    {
     "data": {
      "text/plain": [
       "['datasets/Autobiography.txt',\n",
       " 'datasets/CoralReefs.txt',\n",
       " 'datasets/DescentofMan.txt',\n",
       " 'datasets/DifferentFormsofFlowers.txt',\n",
       " 'datasets/EffectsCrossSelfFertilization.txt',\n",
       " 'datasets/ExpressionofEmotionManAnimals.txt',\n",
       " 'datasets/FormationVegetableMould.txt',\n",
       " 'datasets/FoundationsOriginofSpecies.txt',\n",
       " 'datasets/GeologicalObservationsSouthAmerica.txt',\n",
       " 'datasets/InsectivorousPlants.txt',\n",
       " 'datasets/LifeandLettersVol1.txt',\n",
       " 'datasets/LifeandLettersVol2.txt',\n",
       " 'datasets/MonographCirripedia.txt',\n",
       " 'datasets/MonographCirripediaVol2.txt',\n",
       " 'datasets/MovementClimbingPlants.txt',\n",
       " 'datasets/OriginofSpecies.txt',\n",
       " 'datasets/PowerMovementPlants.txt',\n",
       " 'datasets/VariationPlantsAnimalsDomestication.txt',\n",
       " 'datasets/VolcanicIslands.txt',\n",
       " 'datasets/VoyageBeagle.txt']"
      ]
     },
     "execution_count": 1,
     "metadata": {},
     "output_type": "execute_result"
    }
   ],
   "source": [
    "# Import library\n",
    "import glob\n",
    "\n",
    "# The books files are contained in this folder\n",
    "folder = \"datasets/\"\n",
    "# List all the .txt files and sort them alphabetically\n",
    "files = sorted(glob.glob(folder + '*.txt'))\n",
    "files"
   ]
  },
  {
   "cell_type": "markdown",
   "metadata": {
    "dc": {
     "key": "10"
    },
    "deletable": false,
    "editable": false,
    "run_control": {
     "frozen": true
    },
    "tags": [
     "context"
    ]
   },
   "source": [
    "## 2. Load the contents of each book into Python\n",
    "<p>As a first step, we need to load the content of these books into Python and do some basic pre-processing to facilitate the downstream analyses. We call such a collection of texts <strong>a corpus</strong>. We will also store the titles for these books for future reference and print their respective length to get a gauge for their contents.</p>"
   ]
  },
  {
   "cell_type": "code",
   "execution_count": 2,
   "metadata": {
    "dc": {
     "key": "10"
    },
    "tags": [
     "sample_code"
    ]
   },
   "outputs": [
    {
     "data": {
      "text/plain": [
       "[123231,\n",
       " 496068,\n",
       " 1776539,\n",
       " 617088,\n",
       " 913713,\n",
       " 624232,\n",
       " 335920,\n",
       " 523021,\n",
       " 797401,\n",
       " 901406,\n",
       " 1047518,\n",
       " 1010643,\n",
       " 767492,\n",
       " 1660866,\n",
       " 298319,\n",
       " 916267,\n",
       " 1093567,\n",
       " 1043499,\n",
       " 341447,\n",
       " 1149574]"
      ]
     },
     "execution_count": 2,
     "metadata": {},
     "output_type": "execute_result"
    }
   ],
   "source": [
    "# Import libraries\n",
    "import re, os\n",
    "\n",
    "# Initialize the object that will contain the texts and titles\n",
    "txts = []\n",
    "titles = []\n",
    "\n",
    "for n in files:\n",
    "    # Open each file\n",
    "    f = open(n, encoding='utf-8-sig')\n",
    "    # Remove all non-alpha-numeric characters\n",
    "    content = re.sub('[\\W_]+',' ',f.read())\n",
    "    \n",
    "    \n",
    "    # Store the texts and titles of the books in two separate lists\n",
    "    txts.append(content)\n",
    "    titles.append(os.path.basename(n).replace(\".txt\", \"\"))\n",
    "\n",
    "# Print the length, in characters, of each book\n",
    "[len(t) for t in txts]"
   ]
  },
  {
   "cell_type": "markdown",
   "metadata": {
    "dc": {
     "key": "17"
    },
    "deletable": false,
    "editable": false,
    "run_control": {
     "frozen": true
    },
    "tags": [
     "context"
    ]
   },
   "source": [
    "## 3. Find \"On the Origin of Species\"\n",
    "<p>For the next parts of this analysis, we will often check the results returned by our method for a given book. For consistency, we will refer to Darwin's most famous book: \"<em>On the Origin of Species</em>.\" Let's find to which index this book is associated.</p>"
   ]
  },
  {
   "cell_type": "code",
   "execution_count": 3,
   "metadata": {
    "dc": {
     "key": "17"
    },
    "tags": [
     "sample_code"
    ]
   },
   "outputs": [
    {
     "name": "stdout",
     "output_type": "stream",
     "text": [
      "15\n"
     ]
    }
   ],
   "source": [
    "# Browse the list containing all the titles\n",
    "for i in range(len(titles)):\n",
    "    # Store the index if the title is \"OriginofSpecies\"\n",
    "    if titles[i] == \"OriginofSpecies\":\n",
    "        ori = i\n",
    "        \n",
    "# Print the stored index\n",
    "print(ori)"
   ]
  },
  {
   "cell_type": "markdown",
   "metadata": {
    "dc": {
     "key": "24"
    },
    "deletable": false,
    "editable": false,
    "run_control": {
     "frozen": true
    },
    "tags": [
     "context"
    ]
   },
   "source": [
    "## 4. Tokenize the corpus\n",
    "<p>As a next step, we need to transform the corpus into a format that is easier to deal with for the downstream analyses. We will tokenize our corpus, i.e., transform each text into a list of the individual words (called tokens) it is made of. To check the output of our process, we will print the first 20 tokens of \"<em>On the Origin of Species</em>\".</p>"
   ]
  },
  {
   "cell_type": "code",
   "execution_count": 4,
   "metadata": {
    "dc": {
     "key": "24"
    },
    "tags": [
     "sample_code"
    ]
   },
   "outputs": [
    {
     "name": "stdout",
     "output_type": "stream",
     "text": [
      "['on', 'origin', 'species', 'but', 'with', 'regard', 'material', 'world', 'can', 'least', 'go', 'so', 'far', 'this', 'can', 'perceive', 'events', 'are', 'brought', 'about']\n"
     ]
    }
   ],
   "source": [
    "# Define a list of stop words\n",
    "stoplist = set('for a of the and to in to be which some is at that we i who whom show via may my our might as well'.split())\n",
    "\n",
    "# Convert the text to lower case \n",
    "txts_lower_case = [t.lower() for t in txts]\n",
    "\n",
    "# Transform the text into tokens \n",
    "txts_split = [t.split() for t in txts_lower_case]\n",
    "\n",
    "# Remove tokens which are part of the list of stop words\n",
    "texts = [[word for word in t if word not in stoplist] for t in txts_split]\n",
    "\n",
    "# Print the first 20 tokens for the \"On the Origin of Species\" book\n",
    "print(texts[ori][:20])"
   ]
  },
  {
   "cell_type": "markdown",
   "metadata": {
    "dc": {
     "key": "31"
    },
    "deletable": false,
    "editable": false,
    "run_control": {
     "frozen": true
    },
    "tags": [
     "context"
    ]
   },
   "source": [
    "## 5. Stemming of the tokenized corpus\n",
    "<p>If you have read <em>On the Origin of Species</em>, you will have noticed that Charles Darwin can use different words to refer to a similar concept. For example, the concept of selection can be described by words such as <em>selection</em>, <em>selective</em>, <em>select</em> or <em>selects</em>. This will dilute the weight given to this concept in the book and potentially bias the results of the analysis.</p>\n",
    "<p>To solve this issue, it is a common practice to use a <strong>stemming process</strong>, which will group together the inflected forms of a word so they can be analysed as a single item: <strong>the stem</strong>. In our <em>On the Origin of Species</em> example, the words related to the concept of selection would be gathered under the <em>select</em> stem.</p>\n",
    "<p>As we are analysing 20 full books, the stemming algorithm can take several minutes to run and, in order to make the process faster, we will directly load the final results from a pickle file and review the method used to generate it.</p>"
   ]
  },
  {
   "cell_type": "code",
   "execution_count": 5,
   "metadata": {},
   "outputs": [],
   "source": [
    "# Load the Porter stemming function from the nltk package\n",
    "import pickle\n",
    "from nltk.stem import PorterStemmer\n",
    "\n",
    "# Create an instance of a PorterStemmer object\n",
    "porter = PorterStemmer()\n",
    "\n",
    "# For each token of each text, we generated its stem \n",
    "texts_stem = [[porter.stem(token) for token in text] for text in texts]\n",
    "\n",
    "# Save to pickle file\n",
    "pickle.dump( texts_stem, open( \"datasets/texts_stem.p\", \"wb\" ) )"
   ]
  },
  {
   "cell_type": "code",
   "execution_count": 6,
   "metadata": {
    "dc": {
     "key": "31"
    },
    "tags": [
     "sample_code"
    ]
   },
   "outputs": [
    {
     "name": "stdout",
     "output_type": "stream",
     "text": [
      "['on', 'origin', 'speci', 'but', 'with', 'regard', 'materi', 'world', 'can', 'least', 'go', 'so', 'far', 'thi', 'can', 'perceiv', 'event', 'are', 'brought', 'about']\n"
     ]
    }
   ],
   "source": [
    "# Load the stemmed tokens list from the pregenerated pickle file\n",
    "texts_stem = pickle.load(open('datasets/texts_stem.p','rb'))\n",
    "\n",
    "# Print the 20 first stemmed tokens from the \"On the Origin of Species\" book\n",
    "print(texts_stem[ori][:20])\n"
   ]
  },
  {
   "cell_type": "markdown",
   "metadata": {
    "dc": {
     "key": "38"
    },
    "deletable": false,
    "editable": false,
    "run_control": {
     "frozen": true
    },
    "tags": [
     "context"
    ]
   },
   "source": [
    "## 6. Building a bag-of-words model\n",
    "<p>Now that we have transformed the texts into stemmed tokens, we need to build models that will be useable by downstream algorithms.</p>\n",
    "<p>First, we need to will create a universe of all words contained in our corpus of Charles Darwin's books, which we call <em>a dictionary</em>. Then, using the stemmed tokens and the dictionary, we will create <strong>bag-of-words models</strong> (BoW) of each of our texts. The BoW models will represent our books as a list of all uniques tokens they contain associated with their respective number of occurrences. </p>\n",
    "<p>To better understand the structure of such a model, we will print the five first elements of one of the \"<em>On the Origin of Species</em>\" BoW model.</p>"
   ]
  },
  {
   "cell_type": "code",
   "execution_count": 7,
   "metadata": {
    "dc": {
     "key": "38"
    },
    "tags": [
     "sample_code"
    ]
   },
   "outputs": [
    {
     "name": "stdout",
     "output_type": "stream",
     "text": [
      "[(0, 11), (5, 51), (6, 1), (8, 2), (21, 1)]\n"
     ]
    }
   ],
   "source": [
    "# Load the functions allowing to create and use dictionaries\n",
    "from gensim import corpora\n",
    "\n",
    "# Create a dictionary from the stemmed tokens\n",
    "dictionary = corpora.Dictionary(texts_stem)\n",
    "\n",
    "# Create a bag-of-words model for each book, using the previously generated dictionary\n",
    "bows = [dictionary.doc2bow(text) for text in texts_stem]\n",
    "\n",
    "# Print the first five elements of the On the Origin of species' BoW model\n",
    "print(bows[ori][:5])"
   ]
  },
  {
   "cell_type": "markdown",
   "metadata": {
    "dc": {
     "key": "45"
    },
    "deletable": false,
    "editable": false,
    "run_control": {
     "frozen": true
    },
    "tags": [
     "context"
    ]
   },
   "source": [
    "## 7. The most common words of a given book\n",
    "<p>The results returned by the bag-of-words model is certainly easy to use for a computer but hard to interpret for a human. It is not straightforward to understand which stemmed tokens are present in a given book from Charles Darwin, and how many occurrences we can find.</p>\n",
    "<p>In order to better understand how the model has been generated and visualize its content, we will transform it into a DataFrame and display the 10 most common stems for the book \"<em>On the Origin of Species</em>\".</p>"
   ]
  },
  {
   "cell_type": "code",
   "execution_count": 8,
   "metadata": {
    "dc": {
     "key": "45"
    },
    "tags": [
     "sample_code"
    ]
   },
   "outputs": [
    {
     "name": "stdout",
     "output_type": "stream",
     "text": [
      "      index  occurrences  token\n",
      "748    1168         2023   have\n",
      "1119   1736         1558     on\n",
      "1489   2288         1543  speci\n",
      "892    1366         1480     it\n",
      "239     393         1362     by\n",
      "1128   1747         1201     or\n",
      "125     218         1140    are\n",
      "665    1043         1137   from\n",
      "1774   2703         1000   with\n",
      "1609   2452          962    thi\n"
     ]
    }
   ],
   "source": [
    "# Import pandas to create and manipulate DataFrames\n",
    "import pandas as pd\n",
    "\n",
    "# Convert the BoW model for \"On the Origin of Species\" into a DataFrame\n",
    "df_bow_origin = pd.DataFrame(bows[15])\n",
    "\n",
    "# Add the column names to the DataFrame\n",
    "df_bow_origin.columns=['index','occurrences']\n",
    "\n",
    "# Add a column containing the token corresponding to the dictionary index\n",
    "df_bow_origin['token'] = [dictionary[index] for index in df_bow_origin['index']]\n",
    "\n",
    "# Sort the DataFrame by descending number of occurrences and print the first 10 values\n",
    "print(df_bow_origin.sort_values(by = 'occurrences', ascending = False).head(10))"
   ]
  },
  {
   "cell_type": "markdown",
   "metadata": {
    "dc": {
     "key": "52"
    },
    "deletable": false,
    "editable": false,
    "run_control": {
     "frozen": true
    },
    "tags": [
     "context"
    ]
   },
   "source": [
    "## 8. Build a tf-idf model\n",
    "<p>If it wasn't for the presence of the stem \"<em>speci</em>\", we would have a hard time to guess this BoW model comes from the <em>On the Origin of Species</em> book. The most recurring words are, apart from few exceptions, very common and unlikely to carry any information peculiar to the given book. We need to use an additional step in order to determine which tokens are the most specific to a book.</p>\n",
    "<p>To do so, we will use a <strong>tf-idf model</strong> (term frequency–inverse document frequency). This model defines the importance of each word depending on how frequent it is in this text and how infrequent it is in all the other documents. As a result, a high tf-idf score for a word will indicate that this word is specific to this text.</p>\n",
    "<p>After computing those scores, we will print the 10 words most specific to the \"<em>On the Origin of Species</em>\" book (i.e., the 10 words with the highest tf-idf score).</p>"
   ]
  },
  {
   "cell_type": "code",
   "execution_count": 9,
   "metadata": {
    "dc": {
     "key": "52"
    },
    "tags": [
     "sample_code"
    ]
   },
   "outputs": [
    {
     "name": "stdout",
     "output_type": "stream",
     "text": [
      "[(8, 0.00020408683039616044), (21, 0.0005723177174474165), (23, 0.001714008058633542), (27, 0.0006466337090765656), (28, 0.0025710120879503125), (31, 0.000857004029316771), (35, 0.001016241827361025), (36, 0.001016241827361025), (51, 0.0008878482198272165), (54, 0.00203248365472205)]\n"
     ]
    }
   ],
   "source": [
    "# Load the gensim functions that will allow us to generate tf-idf models\n",
    "from gensim.models import TfidfModel\n",
    "\n",
    "# Generate the tf-idf model\n",
    "model = TfidfModel(bows)\n",
    "\n",
    "# Print the first 10 entries of the model for \"On the Origin of Species\"\n",
    "print(model[bows[ori]][0:10])"
   ]
  },
  {
   "cell_type": "markdown",
   "metadata": {
    "dc": {
     "key": "59"
    },
    "deletable": false,
    "editable": false,
    "run_control": {
     "frozen": true
    },
    "tags": [
     "context"
    ]
   },
   "source": [
    "## 9. The results of the tf-idf model\n",
    "<p>Once again, the format of those results is hard to interpret for a human. Therefore, we will transform it into a more readable version and display the 10 most specific words for the \"<em>On the Origin of Species</em>\" book.</p>"
   ]
  },
  {
   "cell_type": "code",
   "execution_count": 10,
   "metadata": {
    "dc": {
     "key": "59"
    },
    "tags": [
     "sample_code"
    ]
   },
   "outputs": [
    {
     "name": "stdout",
     "output_type": "stream",
     "text": [
      "         id     score      token\n",
      "880    2164  0.327823     select\n",
      "3103  10108  0.204162     pigeon\n",
      "128     369  0.197968      breed\n",
      "2985   9395  0.167705     migrat\n",
      "947    2325  0.148371     steril\n",
      "285     752  0.146172     domest\n",
      "504    1255  0.128433     hybrid\n",
      "371     966  0.127694     fertil\n",
      "3840  16046  0.124547    gärtner\n",
      "3536  12729  0.121348  naturalis\n"
     ]
    }
   ],
   "source": [
    "# Convert the tf-idf model for \"On the Origin of Species\" into a DataFrame\n",
    "df_tfidf = pd.DataFrame(model[bows[ori]])\n",
    "\n",
    "# Name the columns of the DataFrame id and score\n",
    "df_tfidf.columns=['id','score']\n",
    "\n",
    "# Add the tokens corresponding to the numerical indices for better readability\n",
    "df_tfidf['token'] = [ dictionary[index] for index in df_tfidf['id']]\n",
    "\n",
    "# Sort the DataFrame by descending tf-idf score and print the first 10 rows.\n",
    "print(df_tfidf.sort_values(by = 'score', ascending = False).head(10))\n"
   ]
  },
  {
   "cell_type": "markdown",
   "metadata": {
    "dc": {
     "key": "66"
    },
    "deletable": false,
    "editable": false,
    "run_control": {
     "frozen": true
    },
    "tags": [
     "context"
    ]
   },
   "source": [
    "## 10. Compute distance between texts\n",
    "<p>The results of the tf-idf algorithm now return stemmed tokens which are specific to each book. We can, for example, see that topics such as selection, breeding or domestication are defining \"<em>On the Origin of Species</em>\" (and yes, in this book, Charles Darwin talks quite a lot about pigeons too). Now that we have a model associating tokens to how specific they are to each book, we can measure how related to books are between each other.</p>\n",
    "<p>To this purpose, we will use a measure of similarity called <strong>cosine similarity</strong> and we will visualize the results as a distance matrix, i.e., a matrix showing all pairwise distances between Darwin's books.</p>"
   ]
  },
  {
   "cell_type": "code",
   "execution_count": 11,
   "metadata": {
    "dc": {
     "key": "66"
    },
    "tags": [
     "sample_code"
    ]
   },
   "outputs": [
    {
     "data": {
      "text/html": [
       "<div>\n",
       "<style scoped>\n",
       "    .dataframe tbody tr th:only-of-type {\n",
       "        vertical-align: middle;\n",
       "    }\n",
       "\n",
       "    .dataframe tbody tr th {\n",
       "        vertical-align: top;\n",
       "    }\n",
       "\n",
       "    .dataframe thead th {\n",
       "        text-align: right;\n",
       "    }\n",
       "</style>\n",
       "<table border=\"1\" class=\"dataframe\">\n",
       "  <thead>\n",
       "    <tr style=\"text-align: right;\">\n",
       "      <th></th>\n",
       "      <th>Autobiography</th>\n",
       "      <th>CoralReefs</th>\n",
       "      <th>DescentofMan</th>\n",
       "      <th>DifferentFormsofFlowers</th>\n",
       "      <th>EffectsCrossSelfFertilization</th>\n",
       "      <th>ExpressionofEmotionManAnimals</th>\n",
       "      <th>FormationVegetableMould</th>\n",
       "      <th>FoundationsOriginofSpecies</th>\n",
       "      <th>GeologicalObservationsSouthAmerica</th>\n",
       "      <th>InsectivorousPlants</th>\n",
       "      <th>LifeandLettersVol1</th>\n",
       "      <th>LifeandLettersVol2</th>\n",
       "      <th>MonographCirripedia</th>\n",
       "      <th>MonographCirripediaVol2</th>\n",
       "      <th>MovementClimbingPlants</th>\n",
       "      <th>OriginofSpecies</th>\n",
       "      <th>PowerMovementPlants</th>\n",
       "      <th>VariationPlantsAnimalsDomestication</th>\n",
       "      <th>VolcanicIslands</th>\n",
       "      <th>VoyageBeagle</th>\n",
       "    </tr>\n",
       "  </thead>\n",
       "  <tbody>\n",
       "    <tr>\n",
       "      <th>Autobiography</th>\n",
       "      <td>1.000000</td>\n",
       "      <td>0.049722</td>\n",
       "      <td>0.080789</td>\n",
       "      <td>0.066615</td>\n",
       "      <td>0.077006</td>\n",
       "      <td>0.089345</td>\n",
       "      <td>0.041182</td>\n",
       "      <td>0.058990</td>\n",
       "      <td>0.030679</td>\n",
       "      <td>0.014945</td>\n",
       "      <td>0.399534</td>\n",
       "      <td>0.220023</td>\n",
       "      <td>0.005854</td>\n",
       "      <td>0.008456</td>\n",
       "      <td>0.022999</td>\n",
       "      <td>0.101199</td>\n",
       "      <td>0.016059</td>\n",
       "      <td>0.048989</td>\n",
       "      <td>0.038630</td>\n",
       "      <td>0.184288</td>\n",
       "    </tr>\n",
       "    <tr>\n",
       "      <th>CoralReefs</th>\n",
       "      <td>0.049722</td>\n",
       "      <td>1.000000</td>\n",
       "      <td>0.009516</td>\n",
       "      <td>0.001980</td>\n",
       "      <td>0.001936</td>\n",
       "      <td>0.005062</td>\n",
       "      <td>0.029445</td>\n",
       "      <td>0.022066</td>\n",
       "      <td>0.060744</td>\n",
       "      <td>0.002284</td>\n",
       "      <td>0.031211</td>\n",
       "      <td>0.017772</td>\n",
       "      <td>0.006321</td>\n",
       "      <td>0.010497</td>\n",
       "      <td>0.001534</td>\n",
       "      <td>0.039200</td>\n",
       "      <td>0.002686</td>\n",
       "      <td>0.011383</td>\n",
       "      <td>0.057402</td>\n",
       "      <td>0.267414</td>\n",
       "    </tr>\n",
       "    <tr>\n",
       "      <th>DescentofMan</th>\n",
       "      <td>0.080789</td>\n",
       "      <td>0.009516</td>\n",
       "      <td>1.000000</td>\n",
       "      <td>0.072792</td>\n",
       "      <td>0.029997</td>\n",
       "      <td>0.148642</td>\n",
       "      <td>0.027106</td>\n",
       "      <td>0.135001</td>\n",
       "      <td>0.009628</td>\n",
       "      <td>0.009468</td>\n",
       "      <td>0.060040</td>\n",
       "      <td>0.080569</td>\n",
       "      <td>0.053426</td>\n",
       "      <td>0.042937</td>\n",
       "      <td>0.005157</td>\n",
       "      <td>0.267734</td>\n",
       "      <td>0.011267</td>\n",
       "      <td>0.228437</td>\n",
       "      <td>0.007885</td>\n",
       "      <td>0.123902</td>\n",
       "    </tr>\n",
       "    <tr>\n",
       "      <th>DifferentFormsofFlowers</th>\n",
       "      <td>0.066615</td>\n",
       "      <td>0.001980</td>\n",
       "      <td>0.072792</td>\n",
       "      <td>1.000000</td>\n",
       "      <td>0.391788</td>\n",
       "      <td>0.006545</td>\n",
       "      <td>0.010621</td>\n",
       "      <td>0.039993</td>\n",
       "      <td>0.002855</td>\n",
       "      <td>0.007487</td>\n",
       "      <td>0.016188</td>\n",
       "      <td>0.046692</td>\n",
       "      <td>0.009403</td>\n",
       "      <td>0.005451</td>\n",
       "      <td>0.008165</td>\n",
       "      <td>0.129152</td>\n",
       "      <td>0.018831</td>\n",
       "      <td>0.049405</td>\n",
       "      <td>0.002624</td>\n",
       "      <td>0.013213</td>\n",
       "    </tr>\n",
       "    <tr>\n",
       "      <th>EffectsCrossSelfFertilization</th>\n",
       "      <td>0.077006</td>\n",
       "      <td>0.001936</td>\n",
       "      <td>0.029997</td>\n",
       "      <td>0.391788</td>\n",
       "      <td>1.000000</td>\n",
       "      <td>0.006871</td>\n",
       "      <td>0.032270</td>\n",
       "      <td>0.040248</td>\n",
       "      <td>0.002247</td>\n",
       "      <td>0.006763</td>\n",
       "      <td>0.019609</td>\n",
       "      <td>0.046567</td>\n",
       "      <td>0.003218</td>\n",
       "      <td>0.002957</td>\n",
       "      <td>0.014939</td>\n",
       "      <td>0.146700</td>\n",
       "      <td>0.039520</td>\n",
       "      <td>0.054458</td>\n",
       "      <td>0.002183</td>\n",
       "      <td>0.017183</td>\n",
       "    </tr>\n",
       "    <tr>\n",
       "      <th>ExpressionofEmotionManAnimals</th>\n",
       "      <td>0.089345</td>\n",
       "      <td>0.005062</td>\n",
       "      <td>0.148642</td>\n",
       "      <td>0.006545</td>\n",
       "      <td>0.006871</td>\n",
       "      <td>1.000000</td>\n",
       "      <td>0.021066</td>\n",
       "      <td>0.047103</td>\n",
       "      <td>0.005246</td>\n",
       "      <td>0.011461</td>\n",
       "      <td>0.065391</td>\n",
       "      <td>0.049333</td>\n",
       "      <td>0.016802</td>\n",
       "      <td>0.029644</td>\n",
       "      <td>0.005942</td>\n",
       "      <td>0.063242</td>\n",
       "      <td>0.011234</td>\n",
       "      <td>0.082567</td>\n",
       "      <td>0.005595</td>\n",
       "      <td>0.099124</td>\n",
       "    </tr>\n",
       "    <tr>\n",
       "      <th>FormationVegetableMould</th>\n",
       "      <td>0.041182</td>\n",
       "      <td>0.029445</td>\n",
       "      <td>0.027106</td>\n",
       "      <td>0.010621</td>\n",
       "      <td>0.032270</td>\n",
       "      <td>0.021066</td>\n",
       "      <td>1.000000</td>\n",
       "      <td>0.021468</td>\n",
       "      <td>0.067712</td>\n",
       "      <td>0.035498</td>\n",
       "      <td>0.028357</td>\n",
       "      <td>0.023943</td>\n",
       "      <td>0.019864</td>\n",
       "      <td>0.023915</td>\n",
       "      <td>0.038823</td>\n",
       "      <td>0.049519</td>\n",
       "      <td>0.039911</td>\n",
       "      <td>0.032647</td>\n",
       "      <td>0.059299</td>\n",
       "      <td>0.098331</td>\n",
       "    </tr>\n",
       "    <tr>\n",
       "      <th>FoundationsOriginofSpecies</th>\n",
       "      <td>0.058990</td>\n",
       "      <td>0.022066</td>\n",
       "      <td>0.135001</td>\n",
       "      <td>0.039993</td>\n",
       "      <td>0.040248</td>\n",
       "      <td>0.047103</td>\n",
       "      <td>0.021468</td>\n",
       "      <td>1.000000</td>\n",
       "      <td>0.027300</td>\n",
       "      <td>0.005995</td>\n",
       "      <td>0.057749</td>\n",
       "      <td>0.054703</td>\n",
       "      <td>0.007650</td>\n",
       "      <td>0.010762</td>\n",
       "      <td>0.003971</td>\n",
       "      <td>0.322736</td>\n",
       "      <td>0.008712</td>\n",
       "      <td>0.196578</td>\n",
       "      <td>0.017528</td>\n",
       "      <td>0.089075</td>\n",
       "    </tr>\n",
       "    <tr>\n",
       "      <th>GeologicalObservationsSouthAmerica</th>\n",
       "      <td>0.030679</td>\n",
       "      <td>0.060744</td>\n",
       "      <td>0.009628</td>\n",
       "      <td>0.002855</td>\n",
       "      <td>0.002247</td>\n",
       "      <td>0.005246</td>\n",
       "      <td>0.067712</td>\n",
       "      <td>0.027300</td>\n",
       "      <td>1.000000</td>\n",
       "      <td>0.006844</td>\n",
       "      <td>0.028691</td>\n",
       "      <td>0.012241</td>\n",
       "      <td>0.009260</td>\n",
       "      <td>0.023486</td>\n",
       "      <td>0.002046</td>\n",
       "      <td>0.052878</td>\n",
       "      <td>0.003450</td>\n",
       "      <td>0.013737</td>\n",
       "      <td>0.372272</td>\n",
       "      <td>0.259514</td>\n",
       "    </tr>\n",
       "    <tr>\n",
       "      <th>InsectivorousPlants</th>\n",
       "      <td>0.014945</td>\n",
       "      <td>0.002284</td>\n",
       "      <td>0.009468</td>\n",
       "      <td>0.007487</td>\n",
       "      <td>0.006763</td>\n",
       "      <td>0.011461</td>\n",
       "      <td>0.035498</td>\n",
       "      <td>0.005995</td>\n",
       "      <td>0.006844</td>\n",
       "      <td>1.000000</td>\n",
       "      <td>0.006062</td>\n",
       "      <td>0.016549</td>\n",
       "      <td>0.019091</td>\n",
       "      <td>0.019657</td>\n",
       "      <td>0.249011</td>\n",
       "      <td>0.014982</td>\n",
       "      <td>0.022841</td>\n",
       "      <td>0.010321</td>\n",
       "      <td>0.008526</td>\n",
       "      <td>0.014758</td>\n",
       "    </tr>\n",
       "    <tr>\n",
       "      <th>LifeandLettersVol1</th>\n",
       "      <td>0.399534</td>\n",
       "      <td>0.031211</td>\n",
       "      <td>0.060040</td>\n",
       "      <td>0.016188</td>\n",
       "      <td>0.019609</td>\n",
       "      <td>0.065391</td>\n",
       "      <td>0.028357</td>\n",
       "      <td>0.057749</td>\n",
       "      <td>0.028691</td>\n",
       "      <td>0.006062</td>\n",
       "      <td>1.000000</td>\n",
       "      <td>0.885953</td>\n",
       "      <td>0.005839</td>\n",
       "      <td>0.012716</td>\n",
       "      <td>0.005533</td>\n",
       "      <td>0.098353</td>\n",
       "      <td>0.009439</td>\n",
       "      <td>0.054805</td>\n",
       "      <td>0.026517</td>\n",
       "      <td>0.172502</td>\n",
       "    </tr>\n",
       "    <tr>\n",
       "      <th>LifeandLettersVol2</th>\n",
       "      <td>0.220023</td>\n",
       "      <td>0.017772</td>\n",
       "      <td>0.080569</td>\n",
       "      <td>0.046692</td>\n",
       "      <td>0.046567</td>\n",
       "      <td>0.049333</td>\n",
       "      <td>0.023943</td>\n",
       "      <td>0.054703</td>\n",
       "      <td>0.012241</td>\n",
       "      <td>0.016549</td>\n",
       "      <td>0.885953</td>\n",
       "      <td>1.000000</td>\n",
       "      <td>0.004961</td>\n",
       "      <td>0.010570</td>\n",
       "      <td>0.017673</td>\n",
       "      <td>0.097736</td>\n",
       "      <td>0.012017</td>\n",
       "      <td>0.050260</td>\n",
       "      <td>0.011930</td>\n",
       "      <td>0.090674</td>\n",
       "    </tr>\n",
       "    <tr>\n",
       "      <th>MonographCirripedia</th>\n",
       "      <td>0.005854</td>\n",
       "      <td>0.006321</td>\n",
       "      <td>0.053426</td>\n",
       "      <td>0.009403</td>\n",
       "      <td>0.003218</td>\n",
       "      <td>0.016802</td>\n",
       "      <td>0.019864</td>\n",
       "      <td>0.007650</td>\n",
       "      <td>0.009260</td>\n",
       "      <td>0.019091</td>\n",
       "      <td>0.005839</td>\n",
       "      <td>0.004961</td>\n",
       "      <td>1.000000</td>\n",
       "      <td>0.516038</td>\n",
       "      <td>0.012450</td>\n",
       "      <td>0.031278</td>\n",
       "      <td>0.018565</td>\n",
       "      <td>0.022999</td>\n",
       "      <td>0.010054</td>\n",
       "      <td>0.014269</td>\n",
       "    </tr>\n",
       "    <tr>\n",
       "      <th>MonographCirripediaVol2</th>\n",
       "      <td>0.008456</td>\n",
       "      <td>0.010497</td>\n",
       "      <td>0.042937</td>\n",
       "      <td>0.005451</td>\n",
       "      <td>0.002957</td>\n",
       "      <td>0.029644</td>\n",
       "      <td>0.023915</td>\n",
       "      <td>0.010762</td>\n",
       "      <td>0.023486</td>\n",
       "      <td>0.019657</td>\n",
       "      <td>0.012716</td>\n",
       "      <td>0.010570</td>\n",
       "      <td>0.516038</td>\n",
       "      <td>1.000000</td>\n",
       "      <td>0.006762</td>\n",
       "      <td>0.037865</td>\n",
       "      <td>0.022154</td>\n",
       "      <td>0.029694</td>\n",
       "      <td>0.016404</td>\n",
       "      <td>0.024734</td>\n",
       "    </tr>\n",
       "    <tr>\n",
       "      <th>MovementClimbingPlants</th>\n",
       "      <td>0.022999</td>\n",
       "      <td>0.001534</td>\n",
       "      <td>0.005157</td>\n",
       "      <td>0.008165</td>\n",
       "      <td>0.014939</td>\n",
       "      <td>0.005942</td>\n",
       "      <td>0.038823</td>\n",
       "      <td>0.003971</td>\n",
       "      <td>0.002046</td>\n",
       "      <td>0.249011</td>\n",
       "      <td>0.005533</td>\n",
       "      <td>0.017673</td>\n",
       "      <td>0.012450</td>\n",
       "      <td>0.006762</td>\n",
       "      <td>1.000000</td>\n",
       "      <td>0.008858</td>\n",
       "      <td>0.104310</td>\n",
       "      <td>0.011361</td>\n",
       "      <td>0.002842</td>\n",
       "      <td>0.012328</td>\n",
       "    </tr>\n",
       "    <tr>\n",
       "      <th>OriginofSpecies</th>\n",
       "      <td>0.101199</td>\n",
       "      <td>0.039200</td>\n",
       "      <td>0.267734</td>\n",
       "      <td>0.129152</td>\n",
       "      <td>0.146700</td>\n",
       "      <td>0.063242</td>\n",
       "      <td>0.049519</td>\n",
       "      <td>0.322736</td>\n",
       "      <td>0.052878</td>\n",
       "      <td>0.014982</td>\n",
       "      <td>0.098353</td>\n",
       "      <td>0.097736</td>\n",
       "      <td>0.031278</td>\n",
       "      <td>0.037865</td>\n",
       "      <td>0.008858</td>\n",
       "      <td>1.000000</td>\n",
       "      <td>0.018170</td>\n",
       "      <td>0.404093</td>\n",
       "      <td>0.035924</td>\n",
       "      <td>0.165247</td>\n",
       "    </tr>\n",
       "    <tr>\n",
       "      <th>PowerMovementPlants</th>\n",
       "      <td>0.016059</td>\n",
       "      <td>0.002686</td>\n",
       "      <td>0.011267</td>\n",
       "      <td>0.018831</td>\n",
       "      <td>0.039520</td>\n",
       "      <td>0.011234</td>\n",
       "      <td>0.039911</td>\n",
       "      <td>0.008712</td>\n",
       "      <td>0.003450</td>\n",
       "      <td>0.022841</td>\n",
       "      <td>0.009439</td>\n",
       "      <td>0.012017</td>\n",
       "      <td>0.018565</td>\n",
       "      <td>0.022154</td>\n",
       "      <td>0.104310</td>\n",
       "      <td>0.018170</td>\n",
       "      <td>1.000000</td>\n",
       "      <td>0.020184</td>\n",
       "      <td>0.003787</td>\n",
       "      <td>0.023967</td>\n",
       "    </tr>\n",
       "    <tr>\n",
       "      <th>VariationPlantsAnimalsDomestication</th>\n",
       "      <td>0.048989</td>\n",
       "      <td>0.011383</td>\n",
       "      <td>0.228437</td>\n",
       "      <td>0.049405</td>\n",
       "      <td>0.054458</td>\n",
       "      <td>0.082567</td>\n",
       "      <td>0.032647</td>\n",
       "      <td>0.196578</td>\n",
       "      <td>0.013737</td>\n",
       "      <td>0.010321</td>\n",
       "      <td>0.054805</td>\n",
       "      <td>0.050260</td>\n",
       "      <td>0.022999</td>\n",
       "      <td>0.029694</td>\n",
       "      <td>0.011361</td>\n",
       "      <td>0.404093</td>\n",
       "      <td>0.020184</td>\n",
       "      <td>1.000000</td>\n",
       "      <td>0.012210</td>\n",
       "      <td>0.112421</td>\n",
       "    </tr>\n",
       "    <tr>\n",
       "      <th>VolcanicIslands</th>\n",
       "      <td>0.038630</td>\n",
       "      <td>0.057402</td>\n",
       "      <td>0.007885</td>\n",
       "      <td>0.002624</td>\n",
       "      <td>0.002183</td>\n",
       "      <td>0.005595</td>\n",
       "      <td>0.059299</td>\n",
       "      <td>0.017528</td>\n",
       "      <td>0.372272</td>\n",
       "      <td>0.008526</td>\n",
       "      <td>0.026517</td>\n",
       "      <td>0.011930</td>\n",
       "      <td>0.010054</td>\n",
       "      <td>0.016404</td>\n",
       "      <td>0.002842</td>\n",
       "      <td>0.035924</td>\n",
       "      <td>0.003787</td>\n",
       "      <td>0.012210</td>\n",
       "      <td>1.000000</td>\n",
       "      <td>0.138034</td>\n",
       "    </tr>\n",
       "    <tr>\n",
       "      <th>VoyageBeagle</th>\n",
       "      <td>0.184288</td>\n",
       "      <td>0.267414</td>\n",
       "      <td>0.123902</td>\n",
       "      <td>0.013213</td>\n",
       "      <td>0.017183</td>\n",
       "      <td>0.099124</td>\n",
       "      <td>0.098331</td>\n",
       "      <td>0.089075</td>\n",
       "      <td>0.259514</td>\n",
       "      <td>0.014758</td>\n",
       "      <td>0.172502</td>\n",
       "      <td>0.090674</td>\n",
       "      <td>0.014269</td>\n",
       "      <td>0.024734</td>\n",
       "      <td>0.012328</td>\n",
       "      <td>0.165247</td>\n",
       "      <td>0.023967</td>\n",
       "      <td>0.112421</td>\n",
       "      <td>0.138034</td>\n",
       "      <td>1.000000</td>\n",
       "    </tr>\n",
       "  </tbody>\n",
       "</table>\n",
       "</div>"
      ],
      "text/plain": [
       "                                     Autobiography  CoralReefs  DescentofMan  \\\n",
       "Autobiography                             1.000000    0.049722      0.080789   \n",
       "CoralReefs                                0.049722    1.000000      0.009516   \n",
       "DescentofMan                              0.080789    0.009516      1.000000   \n",
       "DifferentFormsofFlowers                   0.066615    0.001980      0.072792   \n",
       "EffectsCrossSelfFertilization             0.077006    0.001936      0.029997   \n",
       "ExpressionofEmotionManAnimals             0.089345    0.005062      0.148642   \n",
       "FormationVegetableMould                   0.041182    0.029445      0.027106   \n",
       "FoundationsOriginofSpecies                0.058990    0.022066      0.135001   \n",
       "GeologicalObservationsSouthAmerica        0.030679    0.060744      0.009628   \n",
       "InsectivorousPlants                       0.014945    0.002284      0.009468   \n",
       "LifeandLettersVol1                        0.399534    0.031211      0.060040   \n",
       "LifeandLettersVol2                        0.220023    0.017772      0.080569   \n",
       "MonographCirripedia                       0.005854    0.006321      0.053426   \n",
       "MonographCirripediaVol2                   0.008456    0.010497      0.042937   \n",
       "MovementClimbingPlants                    0.022999    0.001534      0.005157   \n",
       "OriginofSpecies                           0.101199    0.039200      0.267734   \n",
       "PowerMovementPlants                       0.016059    0.002686      0.011267   \n",
       "VariationPlantsAnimalsDomestication       0.048989    0.011383      0.228437   \n",
       "VolcanicIslands                           0.038630    0.057402      0.007885   \n",
       "VoyageBeagle                              0.184288    0.267414      0.123902   \n",
       "\n",
       "                                     DifferentFormsofFlowers  \\\n",
       "Autobiography                                       0.066615   \n",
       "CoralReefs                                          0.001980   \n",
       "DescentofMan                                        0.072792   \n",
       "DifferentFormsofFlowers                             1.000000   \n",
       "EffectsCrossSelfFertilization                       0.391788   \n",
       "ExpressionofEmotionManAnimals                       0.006545   \n",
       "FormationVegetableMould                             0.010621   \n",
       "FoundationsOriginofSpecies                          0.039993   \n",
       "GeologicalObservationsSouthAmerica                  0.002855   \n",
       "InsectivorousPlants                                 0.007487   \n",
       "LifeandLettersVol1                                  0.016188   \n",
       "LifeandLettersVol2                                  0.046692   \n",
       "MonographCirripedia                                 0.009403   \n",
       "MonographCirripediaVol2                             0.005451   \n",
       "MovementClimbingPlants                              0.008165   \n",
       "OriginofSpecies                                     0.129152   \n",
       "PowerMovementPlants                                 0.018831   \n",
       "VariationPlantsAnimalsDomestication                 0.049405   \n",
       "VolcanicIslands                                     0.002624   \n",
       "VoyageBeagle                                        0.013213   \n",
       "\n",
       "                                     EffectsCrossSelfFertilization  \\\n",
       "Autobiography                                             0.077006   \n",
       "CoralReefs                                                0.001936   \n",
       "DescentofMan                                              0.029997   \n",
       "DifferentFormsofFlowers                                   0.391788   \n",
       "EffectsCrossSelfFertilization                             1.000000   \n",
       "ExpressionofEmotionManAnimals                             0.006871   \n",
       "FormationVegetableMould                                   0.032270   \n",
       "FoundationsOriginofSpecies                                0.040248   \n",
       "GeologicalObservationsSouthAmerica                        0.002247   \n",
       "InsectivorousPlants                                       0.006763   \n",
       "LifeandLettersVol1                                        0.019609   \n",
       "LifeandLettersVol2                                        0.046567   \n",
       "MonographCirripedia                                       0.003218   \n",
       "MonographCirripediaVol2                                   0.002957   \n",
       "MovementClimbingPlants                                    0.014939   \n",
       "OriginofSpecies                                           0.146700   \n",
       "PowerMovementPlants                                       0.039520   \n",
       "VariationPlantsAnimalsDomestication                       0.054458   \n",
       "VolcanicIslands                                           0.002183   \n",
       "VoyageBeagle                                              0.017183   \n",
       "\n",
       "                                     ExpressionofEmotionManAnimals  \\\n",
       "Autobiography                                             0.089345   \n",
       "CoralReefs                                                0.005062   \n",
       "DescentofMan                                              0.148642   \n",
       "DifferentFormsofFlowers                                   0.006545   \n",
       "EffectsCrossSelfFertilization                             0.006871   \n",
       "ExpressionofEmotionManAnimals                             1.000000   \n",
       "FormationVegetableMould                                   0.021066   \n",
       "FoundationsOriginofSpecies                                0.047103   \n",
       "GeologicalObservationsSouthAmerica                        0.005246   \n",
       "InsectivorousPlants                                       0.011461   \n",
       "LifeandLettersVol1                                        0.065391   \n",
       "LifeandLettersVol2                                        0.049333   \n",
       "MonographCirripedia                                       0.016802   \n",
       "MonographCirripediaVol2                                   0.029644   \n",
       "MovementClimbingPlants                                    0.005942   \n",
       "OriginofSpecies                                           0.063242   \n",
       "PowerMovementPlants                                       0.011234   \n",
       "VariationPlantsAnimalsDomestication                       0.082567   \n",
       "VolcanicIslands                                           0.005595   \n",
       "VoyageBeagle                                              0.099124   \n",
       "\n",
       "                                     FormationVegetableMould  \\\n",
       "Autobiography                                       0.041182   \n",
       "CoralReefs                                          0.029445   \n",
       "DescentofMan                                        0.027106   \n",
       "DifferentFormsofFlowers                             0.010621   \n",
       "EffectsCrossSelfFertilization                       0.032270   \n",
       "ExpressionofEmotionManAnimals                       0.021066   \n",
       "FormationVegetableMould                             1.000000   \n",
       "FoundationsOriginofSpecies                          0.021468   \n",
       "GeologicalObservationsSouthAmerica                  0.067712   \n",
       "InsectivorousPlants                                 0.035498   \n",
       "LifeandLettersVol1                                  0.028357   \n",
       "LifeandLettersVol2                                  0.023943   \n",
       "MonographCirripedia                                 0.019864   \n",
       "MonographCirripediaVol2                             0.023915   \n",
       "MovementClimbingPlants                              0.038823   \n",
       "OriginofSpecies                                     0.049519   \n",
       "PowerMovementPlants                                 0.039911   \n",
       "VariationPlantsAnimalsDomestication                 0.032647   \n",
       "VolcanicIslands                                     0.059299   \n",
       "VoyageBeagle                                        0.098331   \n",
       "\n",
       "                                     FoundationsOriginofSpecies  \\\n",
       "Autobiography                                          0.058990   \n",
       "CoralReefs                                             0.022066   \n",
       "DescentofMan                                           0.135001   \n",
       "DifferentFormsofFlowers                                0.039993   \n",
       "EffectsCrossSelfFertilization                          0.040248   \n",
       "ExpressionofEmotionManAnimals                          0.047103   \n",
       "FormationVegetableMould                                0.021468   \n",
       "FoundationsOriginofSpecies                             1.000000   \n",
       "GeologicalObservationsSouthAmerica                     0.027300   \n",
       "InsectivorousPlants                                    0.005995   \n",
       "LifeandLettersVol1                                     0.057749   \n",
       "LifeandLettersVol2                                     0.054703   \n",
       "MonographCirripedia                                    0.007650   \n",
       "MonographCirripediaVol2                                0.010762   \n",
       "MovementClimbingPlants                                 0.003971   \n",
       "OriginofSpecies                                        0.322736   \n",
       "PowerMovementPlants                                    0.008712   \n",
       "VariationPlantsAnimalsDomestication                    0.196578   \n",
       "VolcanicIslands                                        0.017528   \n",
       "VoyageBeagle                                           0.089075   \n",
       "\n",
       "                                     GeologicalObservationsSouthAmerica  \\\n",
       "Autobiography                                                  0.030679   \n",
       "CoralReefs                                                     0.060744   \n",
       "DescentofMan                                                   0.009628   \n",
       "DifferentFormsofFlowers                                        0.002855   \n",
       "EffectsCrossSelfFertilization                                  0.002247   \n",
       "ExpressionofEmotionManAnimals                                  0.005246   \n",
       "FormationVegetableMould                                        0.067712   \n",
       "FoundationsOriginofSpecies                                     0.027300   \n",
       "GeologicalObservationsSouthAmerica                             1.000000   \n",
       "InsectivorousPlants                                            0.006844   \n",
       "LifeandLettersVol1                                             0.028691   \n",
       "LifeandLettersVol2                                             0.012241   \n",
       "MonographCirripedia                                            0.009260   \n",
       "MonographCirripediaVol2                                        0.023486   \n",
       "MovementClimbingPlants                                         0.002046   \n",
       "OriginofSpecies                                                0.052878   \n",
       "PowerMovementPlants                                            0.003450   \n",
       "VariationPlantsAnimalsDomestication                            0.013737   \n",
       "VolcanicIslands                                                0.372272   \n",
       "VoyageBeagle                                                   0.259514   \n",
       "\n",
       "                                     InsectivorousPlants  LifeandLettersVol1  \\\n",
       "Autobiography                                   0.014945            0.399534   \n",
       "CoralReefs                                      0.002284            0.031211   \n",
       "DescentofMan                                    0.009468            0.060040   \n",
       "DifferentFormsofFlowers                         0.007487            0.016188   \n",
       "EffectsCrossSelfFertilization                   0.006763            0.019609   \n",
       "ExpressionofEmotionManAnimals                   0.011461            0.065391   \n",
       "FormationVegetableMould                         0.035498            0.028357   \n",
       "FoundationsOriginofSpecies                      0.005995            0.057749   \n",
       "GeologicalObservationsSouthAmerica              0.006844            0.028691   \n",
       "InsectivorousPlants                             1.000000            0.006062   \n",
       "LifeandLettersVol1                              0.006062            1.000000   \n",
       "LifeandLettersVol2                              0.016549            0.885953   \n",
       "MonographCirripedia                             0.019091            0.005839   \n",
       "MonographCirripediaVol2                         0.019657            0.012716   \n",
       "MovementClimbingPlants                          0.249011            0.005533   \n",
       "OriginofSpecies                                 0.014982            0.098353   \n",
       "PowerMovementPlants                             0.022841            0.009439   \n",
       "VariationPlantsAnimalsDomestication             0.010321            0.054805   \n",
       "VolcanicIslands                                 0.008526            0.026517   \n",
       "VoyageBeagle                                    0.014758            0.172502   \n",
       "\n",
       "                                     LifeandLettersVol2  MonographCirripedia  \\\n",
       "Autobiography                                  0.220023             0.005854   \n",
       "CoralReefs                                     0.017772             0.006321   \n",
       "DescentofMan                                   0.080569             0.053426   \n",
       "DifferentFormsofFlowers                        0.046692             0.009403   \n",
       "EffectsCrossSelfFertilization                  0.046567             0.003218   \n",
       "ExpressionofEmotionManAnimals                  0.049333             0.016802   \n",
       "FormationVegetableMould                        0.023943             0.019864   \n",
       "FoundationsOriginofSpecies                     0.054703             0.007650   \n",
       "GeologicalObservationsSouthAmerica             0.012241             0.009260   \n",
       "InsectivorousPlants                            0.016549             0.019091   \n",
       "LifeandLettersVol1                             0.885953             0.005839   \n",
       "LifeandLettersVol2                             1.000000             0.004961   \n",
       "MonographCirripedia                            0.004961             1.000000   \n",
       "MonographCirripediaVol2                        0.010570             0.516038   \n",
       "MovementClimbingPlants                         0.017673             0.012450   \n",
       "OriginofSpecies                                0.097736             0.031278   \n",
       "PowerMovementPlants                            0.012017             0.018565   \n",
       "VariationPlantsAnimalsDomestication            0.050260             0.022999   \n",
       "VolcanicIslands                                0.011930             0.010054   \n",
       "VoyageBeagle                                   0.090674             0.014269   \n",
       "\n",
       "                                     MonographCirripediaVol2  \\\n",
       "Autobiography                                       0.008456   \n",
       "CoralReefs                                          0.010497   \n",
       "DescentofMan                                        0.042937   \n",
       "DifferentFormsofFlowers                             0.005451   \n",
       "EffectsCrossSelfFertilization                       0.002957   \n",
       "ExpressionofEmotionManAnimals                       0.029644   \n",
       "FormationVegetableMould                             0.023915   \n",
       "FoundationsOriginofSpecies                          0.010762   \n",
       "GeologicalObservationsSouthAmerica                  0.023486   \n",
       "InsectivorousPlants                                 0.019657   \n",
       "LifeandLettersVol1                                  0.012716   \n",
       "LifeandLettersVol2                                  0.010570   \n",
       "MonographCirripedia                                 0.516038   \n",
       "MonographCirripediaVol2                             1.000000   \n",
       "MovementClimbingPlants                              0.006762   \n",
       "OriginofSpecies                                     0.037865   \n",
       "PowerMovementPlants                                 0.022154   \n",
       "VariationPlantsAnimalsDomestication                 0.029694   \n",
       "VolcanicIslands                                     0.016404   \n",
       "VoyageBeagle                                        0.024734   \n",
       "\n",
       "                                     MovementClimbingPlants  OriginofSpecies  \\\n",
       "Autobiography                                      0.022999         0.101199   \n",
       "CoralReefs                                         0.001534         0.039200   \n",
       "DescentofMan                                       0.005157         0.267734   \n",
       "DifferentFormsofFlowers                            0.008165         0.129152   \n",
       "EffectsCrossSelfFertilization                      0.014939         0.146700   \n",
       "ExpressionofEmotionManAnimals                      0.005942         0.063242   \n",
       "FormationVegetableMould                            0.038823         0.049519   \n",
       "FoundationsOriginofSpecies                         0.003971         0.322736   \n",
       "GeologicalObservationsSouthAmerica                 0.002046         0.052878   \n",
       "InsectivorousPlants                                0.249011         0.014982   \n",
       "LifeandLettersVol1                                 0.005533         0.098353   \n",
       "LifeandLettersVol2                                 0.017673         0.097736   \n",
       "MonographCirripedia                                0.012450         0.031278   \n",
       "MonographCirripediaVol2                            0.006762         0.037865   \n",
       "MovementClimbingPlants                             1.000000         0.008858   \n",
       "OriginofSpecies                                    0.008858         1.000000   \n",
       "PowerMovementPlants                                0.104310         0.018170   \n",
       "VariationPlantsAnimalsDomestication                0.011361         0.404093   \n",
       "VolcanicIslands                                    0.002842         0.035924   \n",
       "VoyageBeagle                                       0.012328         0.165247   \n",
       "\n",
       "                                     PowerMovementPlants  \\\n",
       "Autobiography                                   0.016059   \n",
       "CoralReefs                                      0.002686   \n",
       "DescentofMan                                    0.011267   \n",
       "DifferentFormsofFlowers                         0.018831   \n",
       "EffectsCrossSelfFertilization                   0.039520   \n",
       "ExpressionofEmotionManAnimals                   0.011234   \n",
       "FormationVegetableMould                         0.039911   \n",
       "FoundationsOriginofSpecies                      0.008712   \n",
       "GeologicalObservationsSouthAmerica              0.003450   \n",
       "InsectivorousPlants                             0.022841   \n",
       "LifeandLettersVol1                              0.009439   \n",
       "LifeandLettersVol2                              0.012017   \n",
       "MonographCirripedia                             0.018565   \n",
       "MonographCirripediaVol2                         0.022154   \n",
       "MovementClimbingPlants                          0.104310   \n",
       "OriginofSpecies                                 0.018170   \n",
       "PowerMovementPlants                             1.000000   \n",
       "VariationPlantsAnimalsDomestication             0.020184   \n",
       "VolcanicIslands                                 0.003787   \n",
       "VoyageBeagle                                    0.023967   \n",
       "\n",
       "                                     VariationPlantsAnimalsDomestication  \\\n",
       "Autobiography                                                   0.048989   \n",
       "CoralReefs                                                      0.011383   \n",
       "DescentofMan                                                    0.228437   \n",
       "DifferentFormsofFlowers                                         0.049405   \n",
       "EffectsCrossSelfFertilization                                   0.054458   \n",
       "ExpressionofEmotionManAnimals                                   0.082567   \n",
       "FormationVegetableMould                                         0.032647   \n",
       "FoundationsOriginofSpecies                                      0.196578   \n",
       "GeologicalObservationsSouthAmerica                              0.013737   \n",
       "InsectivorousPlants                                             0.010321   \n",
       "LifeandLettersVol1                                              0.054805   \n",
       "LifeandLettersVol2                                              0.050260   \n",
       "MonographCirripedia                                             0.022999   \n",
       "MonographCirripediaVol2                                         0.029694   \n",
       "MovementClimbingPlants                                          0.011361   \n",
       "OriginofSpecies                                                 0.404093   \n",
       "PowerMovementPlants                                             0.020184   \n",
       "VariationPlantsAnimalsDomestication                             1.000000   \n",
       "VolcanicIslands                                                 0.012210   \n",
       "VoyageBeagle                                                    0.112421   \n",
       "\n",
       "                                     VolcanicIslands  VoyageBeagle  \n",
       "Autobiography                               0.038630      0.184288  \n",
       "CoralReefs                                  0.057402      0.267414  \n",
       "DescentofMan                                0.007885      0.123902  \n",
       "DifferentFormsofFlowers                     0.002624      0.013213  \n",
       "EffectsCrossSelfFertilization               0.002183      0.017183  \n",
       "ExpressionofEmotionManAnimals               0.005595      0.099124  \n",
       "FormationVegetableMould                     0.059299      0.098331  \n",
       "FoundationsOriginofSpecies                  0.017528      0.089075  \n",
       "GeologicalObservationsSouthAmerica          0.372272      0.259514  \n",
       "InsectivorousPlants                         0.008526      0.014758  \n",
       "LifeandLettersVol1                          0.026517      0.172502  \n",
       "LifeandLettersVol2                          0.011930      0.090674  \n",
       "MonographCirripedia                         0.010054      0.014269  \n",
       "MonographCirripediaVol2                     0.016404      0.024734  \n",
       "MovementClimbingPlants                      0.002842      0.012328  \n",
       "OriginofSpecies                             0.035924      0.165247  \n",
       "PowerMovementPlants                         0.003787      0.023967  \n",
       "VariationPlantsAnimalsDomestication         0.012210      0.112421  \n",
       "VolcanicIslands                             1.000000      0.138034  \n",
       "VoyageBeagle                                0.138034      1.000000  "
      ]
     },
     "metadata": {},
     "output_type": "display_data"
    }
   ],
   "source": [
    "# Load the library allowing similarity computations\n",
    "from gensim import similarities\n",
    "\n",
    "# Compute the similarity matrix (pairwise distance between all texts)\n",
    "sims = similarities.MatrixSimilarity(model[bows])\n",
    "\n",
    "# Transform the resulting list into a dataframe\n",
    "sim_df = pd.DataFrame(list(sims))\n",
    "\n",
    "# Add the titles of the books as columns and index of the dataframe\n",
    "sim_df.columns = titles\n",
    "sim_df.index = titles\n",
    "\n",
    "# Print the resulting matrix\n",
    "display(sim_df)"
   ]
  },
  {
   "cell_type": "markdown",
   "metadata": {
    "dc": {
     "key": "73"
    },
    "deletable": false,
    "editable": false,
    "run_control": {
     "frozen": true
    },
    "tags": [
     "context"
    ]
   },
   "source": [
    "## 11. The book most similar to \"On the Origin of Species\"\n",
    "<p>We now have a matrix containing all the similarity measures between any pair of books from Charles Darwin! We can now use this matrix to quickly extract the information we need, i.e., the distance between one book and one or several others. </p>\n",
    "<p>As a first step, we will display which books are the most similar to \"<em>On the Origin of Species</em>,\" more specifically we will produce a bar chart showing all books ranked by how similar they are to Darwin's landmark work.</p>"
   ]
  },
  {
   "cell_type": "code",
   "execution_count": 12,
   "metadata": {
    "dc": {
     "key": "73"
    },
    "tags": [
     "sample_code"
    ]
   },
   "outputs": [
    {
     "data": {
      "image/png": "[encoded data removed]",
      "text/plain": [
       "<Figure size 720x720 with 1 Axes>"
      ]
     },
     "metadata": {
      "needs_background": "light"
     },
     "output_type": "display_data"
    }
   ],
   "source": [
    "# This is needed to display plots in a notebook\n",
    "%matplotlib inline\n",
    "\n",
    "# Import libraries\n",
    "import matplotlib.pyplot as plt\n",
    "\n",
    "# Select the column corresponding to \"On the Origin of Species\" and \n",
    "v = sim_df['OriginofSpecies']\n",
    "\n",
    "fig = plt.figure(figsize=(10,10))\n",
    "# Sort by ascending scores\n",
    "v_sorted = v.sort_values()\n",
    "\n",
    "# Plot this data has a horizontal bar plot\n",
    "v_sorted.plot.barh(x='lab', y='val', rot=0)\n",
    "\n",
    "# Modify the axes labels and plot title for a better readability\n",
    "plt.xlabel('Similarity Score')\n",
    "plt.ylabel('Book Title')\n",
    "plt.title('Most similar books to \"On the Origin of Species\"')\n",
    "plt.show()"
   ]
  },
  {
   "cell_type": "markdown",
   "metadata": {
    "dc": {
     "key": "80"
    },
    "deletable": false,
    "editable": false,
    "run_control": {
     "frozen": true
    },
    "tags": [
     "context"
    ]
   },
   "source": [
    "## 12. Which books have similar content?\n",
    "<p>This turns out to be extremely useful if we want to determine a given book's most similar work. For example, we have just seen that if you enjoyed \"<em>On the Origin of Species</em>,\" you can read books discussing similar concepts such as \"<em>The Variation of Animals and Plants under Domestication</em>\" or \"<em>The Descent of Man, and Selection in Relation to Sex</em>.\" If you are familiar with Darwin's work, these suggestions will likely seem natural to you. Indeed, <em>On the Origin of Species</em> has a whole chapter about domestication and <em>The Descent of Man, and Selection in Relation to Sex</em> applies the theory of natural selection to human evolution. Hence, the results make sense.</p>\n",
    "<p>However, we now want to have a better understanding of the big picture and see how Darwin's books are generally related to each other (in terms of topics discussed). To this purpose, we will represent the whole similarity matrix as a dendrogram, which is a standard tool to display such data. <strong>This last approach will display all the information about book similarities at once.</strong> For example, we can find a book's closest relative but, also, we can visualize which groups of books have similar topics (e.g., the cluster about Charles Darwin personal life with his autobiography and letters). If you are familiar with Darwin's bibliography, the results should not surprise you too much, which indicates the method gives good results. Otherwise, next time you read one of the author's book, you will know which other books to read next in order to learn more about the topics it addressed.</p>"
   ]
  },
  {
   "cell_type": "code",
   "execution_count": 13,
   "metadata": {
    "dc": {
     "key": "80"
    },
    "tags": [
     "sample_code"
    ]
   },
   "outputs": [
    {
     "data": {
      "image/png": "[encoded data removed]",
      "text/plain": [
       "<Figure size 720x720 with 1 Axes>"
      ]
     },
     "metadata": {
      "needs_background": "light"
     },
     "output_type": "display_data"
    }
   ],
   "source": [
    "# Import libraries\n",
    "from scipy.cluster import hierarchy\n",
    "\n",
    "# Compute the clusters from the similarity matrix,\n",
    "# using the Ward variance minimization algorithm\n",
    "Z = hierarchy.linkage(sim_df,'ward')\n",
    "\n",
    "# Create the figure and set it's size.\n",
    "fig = plt.figure(figsize=(10,10))\n",
    "\n",
    "# Display this result as a horizontal dendrogram\n",
    "a = hierarchy.dendrogram(Z,leaf_font_size=10, labels=sim_df.index, orientation=\"left\")"
   ]
  },
  {
   "cell_type": "markdown",
   "metadata": {},
   "source": [
    "## Summary\n",
    "1. We have tokenize our corpus, i.e., transform each text into a list of the individual words (called tokens) it is made of. \n",
    "\n",
    "2. We built a tf-idf model (term frequency–inverse document frequency) which defines the importance of each word depending on how frequent it is in this text and how infrequent it is in all the other documents. <b>Note: </b> A high tf-idf score for a word will indicate that this word is specific to this text.\n",
    "\n",
    "3. We used cosine similarity and visualized the results as a distance matrix, i.e., a matrix showing all pairwise distances between Darwin's books to determine the most similar books to \"Origin of the species\".\n",
    "\n",
    "4. Finally, we studied how Darwin's books are generally related to each other (in terms of topics discussed)by representing the similarity matrix as a dendrogram."
   ]
  }
 ],
 "metadata": {
  "kernelspec": {
   "display_name": "Python 3",
   "language": "python",
   "name": "python3"
  },
  "language_info": {
   "codemirror_mode": {
    "name": "ipython",
    "version": 3
   },
   "file_extension": ".py",
   "mimetype": "text/x-python",
   "name": "python",
   "nbconvert_exporter": "python",
   "pygments_lexer": "ipython3",
   "version": "3.7.3"
  }
 },
 "nbformat": 4,
 "nbformat_minor": 2
}
